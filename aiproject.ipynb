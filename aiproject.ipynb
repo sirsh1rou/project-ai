{
  "cells": [
    {
      "cell_type": "code",
      "source": [
        "#Create Pixabay account an get Api key, https://youtu.be/_G2VK_wbHlM?si=jCnDaQW5MdHDKN1H\n",
        "PIXABAY_API_KEY = \"50804779-0aed8052eeea7c90211c6f643\""
      ],
      "metadata": {
        "id": "JLN3l1a1EzLN"
      },
      "execution_count": null,
      "outputs": []
    },
    {
      "cell_type": "code",
      "execution_count": null,
      "metadata": {
        "colab": {
          "base_uri": "https://localhost:8080/"
        },
        "id": "UQf-r13dCHia",
        "outputId": "9a4841d4-cce2-47c4-96cf-e0c217d41ac9"
      },
      "outputs": [
        {
          "output_type": "stream",
          "name": "stdout",
          "text": [
            "Collecting duckduckgo-search==1.1.0\n",
            "  Downloading duckduckgo_search-1.1-py3-none-any.whl.metadata (11 kB)\n",
            "Requirement already satisfied: tqdm in /usr/local/lib/python3.11/dist-packages (4.67.1)\n",
            "Requirement already satisfied: requests>=2.26.0 in /usr/local/lib/python3.11/dist-packages (from duckduckgo-search==1.1.0) (2.32.3)\n",
            "Requirement already satisfied: lxml>=4.6.3 in /usr/local/lib/python3.11/dist-packages (from duckduckgo-search==1.1.0) (5.4.0)\n",
            "Collecting brotli>=1.0.9 (from duckduckgo-search==1.1.0)\n",
            "  Downloading Brotli-1.1.0-cp311-cp311-manylinux_2_17_x86_64.manylinux2014_x86_64.whl.metadata (5.5 kB)\n",
            "Requirement already satisfied: charset-normalizer<4,>=2 in /usr/local/lib/python3.11/dist-packages (from requests>=2.26.0->duckduckgo-search==1.1.0) (3.4.2)\n",
            "Requirement already satisfied: idna<4,>=2.5 in /usr/local/lib/python3.11/dist-packages (from requests>=2.26.0->duckduckgo-search==1.1.0) (3.10)\n",
            "Requirement already satisfied: urllib3<3,>=1.21.1 in /usr/local/lib/python3.11/dist-packages (from requests>=2.26.0->duckduckgo-search==1.1.0) (2.4.0)\n",
            "Requirement already satisfied: certifi>=2017.4.17 in /usr/local/lib/python3.11/dist-packages (from requests>=2.26.0->duckduckgo-search==1.1.0) (2025.4.26)\n",
            "Downloading duckduckgo_search-1.1-py3-none-any.whl (8.4 kB)\n",
            "Downloading Brotli-1.1.0-cp311-cp311-manylinux_2_17_x86_64.manylinux2014_x86_64.whl (2.9 MB)\n",
            "\u001b[2K   \u001b[90m━━━━━━━━━━━━━━━━━━━━━━━━━━━━━━━━━━━━━━━━\u001b[0m \u001b[32m2.9/2.9 MB\u001b[0m \u001b[31m54.9 MB/s\u001b[0m eta \u001b[36m0:00:00\u001b[0m\n",
            "\u001b[?25hInstalling collected packages: brotli, duckduckgo-search\n",
            "Successfully installed brotli-1.1.0 duckduckgo-search-1.1\n",
            "✅ TensorFlow version: 2.18.0\n",
            "✅ GPUs Available: 1\n"
          ]
        }
      ],
      "source": [
        "!pip install duckduckgo-search==1.1.0 tqdm\n",
        "\n",
        "import tensorflow as tf\n",
        "print(\"✅ TensorFlow version:\", tf.__version__)\n",
        "print(\"✅ GPUs Available:\", len(tf.config.list_physical_devices('GPU')))\n"
      ]
    },
    {
      "cell_type": "code",
      "execution_count": null,
      "metadata": {
        "id": "XJh7bufFCRZW"
      },
      "outputs": [],
      "source": [
        "import os\n",
        "\n",
        "base_path = '/content/monkey_project'\n",
        "folders = [\n",
        "    \"monkey_dataset/proboscis_monkey\",\n",
        "    \"monkey_dataset/spider_monkey\",\n",
        "    \"monkey_dataset/japanese_macaque\",\n",
        "    \"monkey_dataset/train\",\n",
        "    \"monkey_dataset/val\",\n",
        "    \"monkey_dataset/test\",\n",
        "    \"models\",\n",
        "    \"plots\"\n",
        "]\n",
        "\n",
        "for folder in folders:\n",
        "    path = os.path.join(base_path, folder)\n",
        "    os.makedirs(path, exist_ok=True)\n",
        "\n",
        "dataset_root = os.path.join(base_path, 'monkey_dataset')\n",
        "classes = ['proboscis_monkey', 'spider_monkey', 'japanese_macaque']\n",
        "splits = ['train', 'val', 'test']\n",
        "\n"
      ]
    },
    {
      "cell_type": "code",
      "execution_count": null,
      "metadata": {
        "colab": {
          "base_uri": "https://localhost:8080/"
        },
        "id": "O2-v8n6LG2ho",
        "outputId": "60030fd0-b8de-48e4-a0fe-642068b62ddc"
      },
      "outputs": [
        {
          "output_type": "stream",
          "name": "stdout",
          "text": [
            "Collecting duckduckgo-search\n",
            "  Downloading duckduckgo_search-8.0.3-py3-none-any.whl.metadata (16 kB)\n",
            "Requirement already satisfied: click>=8.1.8 in /usr/local/lib/python3.11/dist-packages (from duckduckgo-search) (8.2.1)\n",
            "Collecting primp>=0.15.0 (from duckduckgo-search)\n",
            "  Downloading primp-0.15.0-cp38-abi3-manylinux_2_17_x86_64.manylinux2014_x86_64.whl.metadata (13 kB)\n",
            "Requirement already satisfied: lxml>=5.3.0 in /usr/local/lib/python3.11/dist-packages (from duckduckgo-search) (5.4.0)\n",
            "Downloading duckduckgo_search-8.0.3-py3-none-any.whl (18 kB)\n",
            "Downloading primp-0.15.0-cp38-abi3-manylinux_2_17_x86_64.manylinux2014_x86_64.whl (3.3 MB)\n",
            "\u001b[2K   \u001b[90m━━━━━━━━━━━━━━━━━━━━━━━━━━━━━━━━━━━━━━━━\u001b[0m \u001b[32m3.3/3.3 MB\u001b[0m \u001b[31m33.8 MB/s\u001b[0m eta \u001b[36m0:00:00\u001b[0m\n",
            "\u001b[?25hInstalling collected packages: primp, duckduckgo-search\n",
            "Successfully installed duckduckgo-search-8.0.3 primp-0.15.0\n"
          ]
        }
      ],
      "source": [
        "!pip install --upgrade duckduckgo-search\n",
        "\n"
      ]
    },
    {
      "cell_type": "code",
      "execution_count": null,
      "metadata": {
        "id": "eVRlzKogHJ56"
      },
      "outputs": [],
      "source": [
        "from duckduckgo_search import DDGS\n",
        "import os, requests\n",
        "from tqdm import tqdm\n"
      ]
    },
    {
      "cell_type": "code",
      "execution_count": null,
      "metadata": {
        "id": "CBLhFMFmFLcd"
      },
      "outputs": [],
      "source": [
        "def download_ddg_images(query, folder, max_images=500):\n",
        "    os.makedirs(folder, exist_ok=True)\n",
        "\n",
        "    with DDGS() as ddgs:\n",
        "        results = ddgs.images(keywords=query, max_results=max_images)\n",
        "        for i, img in enumerate(tqdm(results, desc=f\" {query}\")):\n",
        "            try:\n",
        "                response = requests.get(img[\"image\"], timeout=5)\n",
        "                if response.status_code == 200:\n",
        "                    filename = f\"{query.replace(' ', '_')}_{i+1}.jpg\"\n",
        "                    with open(os.path.join(folder, filename), \"wb\") as f:\n",
        "                        f.write(response.content)\n",
        "            except Exception:\n",
        "                continue\n"
      ]
    },
    {
      "cell_type": "code",
      "execution_count": null,
      "metadata": {
        "id": "LyGt_yNbIidG"
      },
      "outputs": [],
      "source": [
        "import os\n",
        "\n",
        "base_path = '/content/monkey_project'\n",
        "dataset_root = os.path.join(base_path, 'monkey_dataset')\n",
        "\n",
        "classes = ['proboscis_monkey', 'spider_monkey', 'japanese_macaque']\n"
      ]
    },
    {
      "cell_type": "code",
      "execution_count": null,
      "metadata": {
        "id": "wqOY_t1LGV8n",
        "colab": {
          "base_uri": "https://localhost:8080/",
          "height": 647
        },
        "outputId": "8b059b9c-e74a-4c5d-a20b-1fa93b395a2b"
      },
      "outputs": [
        {
          "output_type": "stream",
          "name": "stderr",
          "text": [
            " Proboscis Monkey: 100%|██████████| 401/401 [03:33<00:00,  1.88it/s]\n",
            " Nasalis larvatus: 100%|██████████| 356/356 [03:24<00:00,  1.74it/s]\n",
            " Long-nosed monkey: 100%|██████████| 344/344 [03:29<00:00,  1.64it/s]\n",
            " Proboscis Monkey in forest: 100%|██████████| 336/336 [02:34<00:00,  2.18it/s]\n",
            " Proboscis Monkey close up: 100%|██████████| 320/320 [02:30<00:00,  2.13it/s]\n",
            " Proboscis Monkey baby: 100%|██████████| 215/215 [01:44<00:00,  2.06it/s]\n",
            " Spider Monkey: 100%|██████████| 355/355 [05:10<00:00,  1.14it/s]\n",
            " Ateles geoffroyi: 100%|██████████| 299/299 [04:16<00:00,  1.17it/s]\n",
            " Black-handed spider monkey: 100%|██████████| 351/351 [04:11<00:00,  1.40it/s]\n",
            " Spider Monkey in jungle: 100%|██████████| 226/226 [02:33<00:00,  1.47it/s]\n",
            " Spider Monkey close up: 100%|██████████| 230/230 [02:02<00:00,  1.87it/s]\n"
          ]
        },
        {
          "output_type": "error",
          "ename": "RatelimitException",
          "evalue": "https://duckduckgo.com/i.js?l=wt-wt&o=json&q=Spider+Monkey+baby&vqd=4-224576816288618397584400957969437496269&f=%2C%2C%2C%2C%2C&p=1 403 Ratelimit",
          "traceback": [
            "\u001b[0;31m---------------------------------------------------------------------------\u001b[0m",
            "\u001b[0;31mRatelimitException\u001b[0m                        Traceback (most recent call last)",
            "\u001b[0;32m<ipython-input-7-3978935072>\u001b[0m in \u001b[0;36m<cell line: 0>\u001b[0;34m()\u001b[0m\n\u001b[1;32m      8\u001b[0m     \u001b[0mtarget\u001b[0m \u001b[0;34m=\u001b[0m \u001b[0mos\u001b[0m\u001b[0;34m.\u001b[0m\u001b[0mpath\u001b[0m\u001b[0;34m.\u001b[0m\u001b[0mjoin\u001b[0m\u001b[0;34m(\u001b[0m\u001b[0mdataset_root\u001b[0m\u001b[0;34m,\u001b[0m \u001b[0mfolder\u001b[0m\u001b[0;34m)\u001b[0m\u001b[0;34m\u001b[0m\u001b[0;34m\u001b[0m\u001b[0m\n\u001b[1;32m      9\u001b[0m     \u001b[0;32mfor\u001b[0m \u001b[0mterm\u001b[0m \u001b[0;32min\u001b[0m \u001b[0mterms\u001b[0m\u001b[0;34m:\u001b[0m\u001b[0;34m\u001b[0m\u001b[0;34m\u001b[0m\u001b[0m\n\u001b[0;32m---> 10\u001b[0;31m         \u001b[0mdownload_ddg_images\u001b[0m\u001b[0;34m(\u001b[0m\u001b[0mterm\u001b[0m\u001b[0;34m,\u001b[0m \u001b[0mtarget\u001b[0m\u001b[0;34m,\u001b[0m \u001b[0mmax_images\u001b[0m\u001b[0;34m=\u001b[0m\u001b[0;36m500\u001b[0m\u001b[0;34m)\u001b[0m\u001b[0;34m\u001b[0m\u001b[0;34m\u001b[0m\u001b[0m\n\u001b[0m\u001b[1;32m     11\u001b[0m \u001b[0;34m\u001b[0m\u001b[0m\n",
            "\u001b[0;32m<ipython-input-5-2293951386>\u001b[0m in \u001b[0;36mdownload_ddg_images\u001b[0;34m(query, folder, max_images)\u001b[0m\n\u001b[1;32m      3\u001b[0m \u001b[0;34m\u001b[0m\u001b[0m\n\u001b[1;32m      4\u001b[0m     \u001b[0;32mwith\u001b[0m \u001b[0mDDGS\u001b[0m\u001b[0;34m(\u001b[0m\u001b[0;34m)\u001b[0m \u001b[0;32mas\u001b[0m \u001b[0mddgs\u001b[0m\u001b[0;34m:\u001b[0m\u001b[0;34m\u001b[0m\u001b[0;34m\u001b[0m\u001b[0m\n\u001b[0;32m----> 5\u001b[0;31m         \u001b[0mresults\u001b[0m \u001b[0;34m=\u001b[0m \u001b[0mddgs\u001b[0m\u001b[0;34m.\u001b[0m\u001b[0mimages\u001b[0m\u001b[0;34m(\u001b[0m\u001b[0mkeywords\u001b[0m\u001b[0;34m=\u001b[0m\u001b[0mquery\u001b[0m\u001b[0;34m,\u001b[0m \u001b[0mmax_results\u001b[0m\u001b[0;34m=\u001b[0m\u001b[0mmax_images\u001b[0m\u001b[0;34m)\u001b[0m\u001b[0;34m\u001b[0m\u001b[0;34m\u001b[0m\u001b[0m\n\u001b[0m\u001b[1;32m      6\u001b[0m         \u001b[0;32mfor\u001b[0m \u001b[0mi\u001b[0m\u001b[0;34m,\u001b[0m \u001b[0mimg\u001b[0m \u001b[0;32min\u001b[0m \u001b[0menumerate\u001b[0m\u001b[0;34m(\u001b[0m\u001b[0mtqdm\u001b[0m\u001b[0;34m(\u001b[0m\u001b[0mresults\u001b[0m\u001b[0;34m,\u001b[0m \u001b[0mdesc\u001b[0m\u001b[0;34m=\u001b[0m\u001b[0;34mf\" {query}\"\u001b[0m\u001b[0;34m)\u001b[0m\u001b[0;34m)\u001b[0m\u001b[0;34m:\u001b[0m\u001b[0;34m\u001b[0m\u001b[0;34m\u001b[0m\u001b[0m\n\u001b[1;32m      7\u001b[0m             \u001b[0;32mtry\u001b[0m\u001b[0;34m:\u001b[0m\u001b[0;34m\u001b[0m\u001b[0;34m\u001b[0m\u001b[0m\n",
            "\u001b[0;32m/usr/local/lib/python3.11/dist-packages/duckduckgo_search/duckduckgo_search.py\u001b[0m in \u001b[0;36mimages\u001b[0;34m(self, keywords, region, safesearch, timelimit, size, color, type_image, layout, license_image, max_results)\u001b[0m\n\u001b[1;32m    406\u001b[0m \u001b[0;34m\u001b[0m\u001b[0m\n\u001b[1;32m    407\u001b[0m         \u001b[0;32mfor\u001b[0m \u001b[0m_\u001b[0m \u001b[0;32min\u001b[0m \u001b[0mrange\u001b[0m\u001b[0;34m(\u001b[0m\u001b[0;36m5\u001b[0m\u001b[0;34m)\u001b[0m\u001b[0;34m:\u001b[0m\u001b[0;34m\u001b[0m\u001b[0;34m\u001b[0m\u001b[0m\n\u001b[0;32m--> 408\u001b[0;31m             resp_content = self._get_url(\n\u001b[0m\u001b[1;32m    409\u001b[0m                 \u001b[0;34m\"GET\"\u001b[0m\u001b[0;34m,\u001b[0m \u001b[0;34m\"https://duckduckgo.com/i.js\"\u001b[0m\u001b[0;34m,\u001b[0m \u001b[0mparams\u001b[0m\u001b[0;34m=\u001b[0m\u001b[0mpayload\u001b[0m\u001b[0;34m,\u001b[0m \u001b[0mheaders\u001b[0m\u001b[0;34m=\u001b[0m\u001b[0;34m{\u001b[0m\u001b[0;34m\"Referer\"\u001b[0m\u001b[0;34m:\u001b[0m \u001b[0;34m\"https://duckduckgo.com/\"\u001b[0m\u001b[0;34m}\u001b[0m\u001b[0;34m\u001b[0m\u001b[0;34m\u001b[0m\u001b[0m\n\u001b[1;32m    410\u001b[0m             ).content\n",
            "\u001b[0;32m/usr/local/lib/python3.11/dist-packages/duckduckgo_search/duckduckgo_search.py\u001b[0m in \u001b[0;36m_get_url\u001b[0;34m(self, method, url, params, content, data, headers, cookies, json, timeout)\u001b[0m\n\u001b[1;32m    127\u001b[0m             \u001b[0;32mreturn\u001b[0m \u001b[0mresp\u001b[0m\u001b[0;34m\u001b[0m\u001b[0;34m\u001b[0m\u001b[0m\n\u001b[1;32m    128\u001b[0m         \u001b[0;32melif\u001b[0m \u001b[0mresp\u001b[0m\u001b[0;34m.\u001b[0m\u001b[0mstatus_code\u001b[0m \u001b[0;32min\u001b[0m \u001b[0;34m(\u001b[0m\u001b[0;36m202\u001b[0m\u001b[0;34m,\u001b[0m \u001b[0;36m301\u001b[0m\u001b[0;34m,\u001b[0m \u001b[0;36m403\u001b[0m\u001b[0;34m,\u001b[0m \u001b[0;36m400\u001b[0m\u001b[0;34m,\u001b[0m \u001b[0;36m429\u001b[0m\u001b[0;34m,\u001b[0m \u001b[0;36m418\u001b[0m\u001b[0;34m)\u001b[0m\u001b[0;34m:\u001b[0m\u001b[0;34m\u001b[0m\u001b[0;34m\u001b[0m\u001b[0m\n\u001b[0;32m--> 129\u001b[0;31m             \u001b[0;32mraise\u001b[0m \u001b[0mRatelimitException\u001b[0m\u001b[0;34m(\u001b[0m\u001b[0;34mf\"{resp.url} {resp.status_code} Ratelimit\"\u001b[0m\u001b[0;34m)\u001b[0m\u001b[0;34m\u001b[0m\u001b[0;34m\u001b[0m\u001b[0m\n\u001b[0m\u001b[1;32m    130\u001b[0m         \u001b[0;32mraise\u001b[0m \u001b[0mDuckDuckGoSearchException\u001b[0m\u001b[0;34m(\u001b[0m\u001b[0;34mf\"{resp.url} return None. {params=} {content=} {data=}\"\u001b[0m\u001b[0;34m)\u001b[0m\u001b[0;34m\u001b[0m\u001b[0;34m\u001b[0m\u001b[0m\n\u001b[1;32m    131\u001b[0m \u001b[0;34m\u001b[0m\u001b[0m\n",
            "\u001b[0;31mRatelimitException\u001b[0m: https://duckduckgo.com/i.js?l=wt-wt&o=json&q=Spider+Monkey+baby&vqd=4-224576816288618397584400957969437496269&f=%2C%2C%2C%2C%2C&p=1 403 Ratelimit"
          ]
        }
      ],
      "source": [
        "queries = {\n",
        "    \"proboscis_monkey\": [\"Proboscis Monkey\", \"Nasalis larvatus\", \"Long-nosed monkey\", \"Proboscis Monkey in forest\", \"Proboscis Monkey close up\", \"Proboscis Monkey baby\"],\n",
        "    \"spider_monkey\": [\"Spider Monkey\", \"Ateles geoffroyi\", \"Black-handed spider monkey\", \"Spider Monkey in jungle\", \"Spider Monkey close up\", \"Spider Monkey baby\"],\n",
        "    \"japanese_macaque\": [\"Japanese Macaque\", \"Snow Monkey\", \"Macaca fuscata\", \"Japanese Macaque in snow\", \"Macaque hot spring\", \"Baby Japanese Macaque\"]\n",
        "}\n",
        "\n",
        "for folder, terms in queries.items():\n",
        "    target = os.path.join(dataset_root, folder)\n",
        "    for term in terms:\n",
        "        download_ddg_images(term, target, max_images=500)\n",
        "\n"
      ]
    },
    {
      "cell_type": "code",
      "execution_count": null,
      "metadata": {
        "id": "qIjT3_4mMVjf",
        "colab": {
          "base_uri": "https://localhost:8080/"
        },
        "outputId": "0790c873-de65-4e3e-816f-232d8d7c9b8c"
      },
      "outputs": [
        {
          "output_type": "stream",
          "name": "stdout",
          "text": [
            "Reading package lists... Done\n",
            "Building dependency tree... Done\n",
            "Reading state information... Done\n",
            "The following additional packages will be installed:\n",
            "  libabsl20210324 libavif13 libgav1-0 libyuv0\n",
            "The following NEW packages will be installed:\n",
            "  libabsl20210324 libavif-dev libavif13 libgav1-0 libyuv0\n",
            "0 upgraded, 5 newly installed, 0 to remove and 35 not upgraded.\n",
            "Need to get 966 kB of archives.\n",
            "After this operation, 3,537 kB of additional disk space will be used.\n",
            "Get:1 http://archive.ubuntu.com/ubuntu jammy-updates/main amd64 libabsl20210324 amd64 0~20210324.2-2ubuntu0.2 [386 kB]\n",
            "Get:2 http://archive.ubuntu.com/ubuntu jammy/universe amd64 libgav1-0 amd64 0.17.0-1build1 [336 kB]\n",
            "Get:3 http://archive.ubuntu.com/ubuntu jammy/universe amd64 libyuv0 amd64 0.0~git20220104.b91df1a-2 [154 kB]\n",
            "Get:4 http://archive.ubuntu.com/ubuntu jammy/universe amd64 libavif13 amd64 0.9.3-3 [69.5 kB]\n",
            "Get:5 http://archive.ubuntu.com/ubuntu jammy/universe amd64 libavif-dev amd64 0.9.3-3 [21.0 kB]\n",
            "Fetched 966 kB in 2s (611 kB/s)\n",
            "debconf: unable to initialize frontend: Dialog\n",
            "debconf: (No usable dialog-like program is installed, so the dialog based frontend cannot be used. at /usr/share/perl5/Debconf/FrontEnd/Dialog.pm line 78, <> line 5.)\n",
            "debconf: falling back to frontend: Readline\n",
            "debconf: unable to initialize frontend: Readline\n",
            "debconf: (This frontend requires a controlling tty.)\n",
            "debconf: falling back to frontend: Teletype\n",
            "dpkg-preconfigure: unable to re-open stdin: \n",
            "Selecting previously unselected package libabsl20210324:amd64.\n",
            "(Reading database ... 126111 files and directories currently installed.)\n",
            "Preparing to unpack .../libabsl20210324_0~20210324.2-2ubuntu0.2_amd64.deb ...\n",
            "Unpacking libabsl20210324:amd64 (0~20210324.2-2ubuntu0.2) ...\n",
            "Selecting previously unselected package libgav1-0:amd64.\n",
            "Preparing to unpack .../libgav1-0_0.17.0-1build1_amd64.deb ...\n",
            "Unpacking libgav1-0:amd64 (0.17.0-1build1) ...\n",
            "Selecting previously unselected package libyuv0:amd64.\n",
            "Preparing to unpack .../libyuv0_0.0~git20220104.b91df1a-2_amd64.deb ...\n",
            "Unpacking libyuv0:amd64 (0.0~git20220104.b91df1a-2) ...\n",
            "Selecting previously unselected package libavif13:amd64.\n",
            "Preparing to unpack .../libavif13_0.9.3-3_amd64.deb ...\n",
            "Unpacking libavif13:amd64 (0.9.3-3) ...\n",
            "Selecting previously unselected package libavif-dev:amd64.\n",
            "Preparing to unpack .../libavif-dev_0.9.3-3_amd64.deb ...\n",
            "Unpacking libavif-dev:amd64 (0.9.3-3) ...\n",
            "Setting up libabsl20210324:amd64 (0~20210324.2-2ubuntu0.2) ...\n",
            "Setting up libyuv0:amd64 (0.0~git20220104.b91df1a-2) ...\n",
            "Setting up libgav1-0:amd64 (0.17.0-1build1) ...\n",
            "Setting up libavif13:amd64 (0.9.3-3) ...\n",
            "Setting up libavif-dev:amd64 (0.9.3-3) ...\n",
            "Processing triggers for libc-bin (2.35-0ubuntu3.8) ...\n",
            "/sbin/ldconfig.real: /usr/local/lib/libumf.so.0 is not a symbolic link\n",
            "\n",
            "/sbin/ldconfig.real: /usr/local/lib/libtbbmalloc_proxy.so.2 is not a symbolic link\n",
            "\n",
            "/sbin/ldconfig.real: /usr/local/lib/libtbbmalloc.so.2 is not a symbolic link\n",
            "\n",
            "/sbin/ldconfig.real: /usr/local/lib/libur_loader.so.0 is not a symbolic link\n",
            "\n",
            "/sbin/ldconfig.real: /usr/local/lib/libtbbbind.so.3 is not a symbolic link\n",
            "\n",
            "/sbin/ldconfig.real: /usr/local/lib/libtbbbind_2_0.so.3 is not a symbolic link\n",
            "\n",
            "/sbin/ldconfig.real: /usr/local/lib/libtcm.so.1 is not a symbolic link\n",
            "\n",
            "/sbin/ldconfig.real: /usr/local/lib/libur_adapter_level_zero.so.0 is not a symbolic link\n",
            "\n",
            "/sbin/ldconfig.real: /usr/local/lib/libur_adapter_opencl.so.0 is not a symbolic link\n",
            "\n",
            "/sbin/ldconfig.real: /usr/local/lib/libtcm_debug.so.1 is not a symbolic link\n",
            "\n",
            "/sbin/ldconfig.real: /usr/local/lib/libtbbbind_2_5.so.3 is not a symbolic link\n",
            "\n",
            "/sbin/ldconfig.real: /usr/local/lib/libtbb.so.12 is not a symbolic link\n",
            "\n",
            "/sbin/ldconfig.real: /usr/local/lib/libhwloc.so.15 is not a symbolic link\n",
            "\n",
            "Collecting pillow-avif-plugin\n",
            "  Downloading pillow_avif_plugin-1.5.2-cp311-cp311-manylinux_2_28_x86_64.whl.metadata (2.1 kB)\n",
            "Downloading pillow_avif_plugin-1.5.2-cp311-cp311-manylinux_2_28_x86_64.whl (4.2 MB)\n",
            "\u001b[2K   \u001b[90m━━━━━━━━━━━━━━━━━━━━━━━━━━━━━━━━━━━━━━━━\u001b[0m \u001b[32m4.2/4.2 MB\u001b[0m \u001b[31m86.6 MB/s\u001b[0m eta \u001b[36m0:00:00\u001b[0m\n",
            "\u001b[?25hInstalling collected packages: pillow-avif-plugin\n",
            "Successfully installed pillow-avif-plugin-1.5.2\n"
          ]
        }
      ],
      "source": [
        "!sudo apt-get install libavif-dev -y\n",
        "!pip install -U pillow-avif-plugin\n"
      ]
    },
    {
      "cell_type": "code",
      "execution_count": null,
      "metadata": {
        "id": "67VduaYFMXM1"
      },
      "outputs": [],
      "source": [
        "import pillow_avif\n"
      ]
    },
    {
      "cell_type": "code",
      "execution_count": null,
      "metadata": {
        "id": "tRQ96GfhFTEu"
      },
      "outputs": [],
      "source": [
        "import glob, shutil, random\n",
        "\n",
        "def is_image_file(f):\n",
        "    return f.lower().endswith(('.jpg', '.jpeg', '.png'))\n",
        "\n",
        "def split_dataset(base_dir, classes):\n",
        "    for cls in classes:\n",
        "        source = os.path.join(base_dir, cls)\n",
        "        files = [f for f in glob.glob(os.path.join(source, '*')) if is_image_file(f)]\n",
        "        random.shuffle(files)\n",
        "        total = len(files)\n",
        "        train_end = int(0.7 * total)\n",
        "        val_end = int(0.85 * total)\n",
        "\n",
        "        split_map = {\n",
        "            'train': files[:train_end],\n",
        "            'val': files[train_end:val_end],\n",
        "            'test': files[val_end:]\n",
        "        }\n",
        "\n",
        "        for split, file_list in split_map.items():\n",
        "            target_dir = os.path.join(base_dir, split, cls)\n",
        "            os.makedirs(target_dir, exist_ok=True)\n",
        "            for file_path in file_list:\n",
        "                shutil.copy(file_path, target_dir)\n",
        "\n",
        "split_dataset(dataset_root, classes)\n"
      ]
    },
    {
      "cell_type": "code",
      "source": [
        "import os\n",
        "import requests\n",
        "from tqdm import tqdm\n",
        "\n",
        "def download_pixabay_images(query, folder, api_key, max_images=100):\n",
        "    os.makedirs(folder, exist_ok=True)\n",
        "    base_url = \"https://pixabay.com/api/\"\n",
        "    params = {\n",
        "        \"key\": api_key,\n",
        "        \"q\": query,\n",
        "        \"image_type\": \"photo\",\n",
        "        \"per_page\": 200,  # max per request\n",
        "        \"safesearch\": \"true\"\n",
        "    }\n",
        "\n",
        "    downloaded = 0\n",
        "    page = 1\n",
        "\n",
        "    while downloaded < max_images:\n",
        "        params[\"page\"] = page\n",
        "        response = requests.get(base_url, params=params)\n",
        "        data = response.json()\n",
        "\n",
        "        hits = data.get(\"hits\", [])\n",
        "        if not hits:\n",
        "            print(\"No more results.\")\n",
        "            break\n",
        "\n",
        "        for hit in hits:\n",
        "            if downloaded >= max_images:\n",
        "                break\n",
        "            img_url = hit[\"largeImageURL\"]\n",
        "            try:\n",
        "                img_data = requests.get(img_url, timeout=5).content\n",
        "                filename = os.path.join(folder, f\"{query.replace(' ', '_')}_{downloaded+1}.jpg\")\n",
        "                with open(filename, \"wb\") as f:\n",
        "                    f.write(img_data)\n",
        "                downloaded += 1\n",
        "            except Exception as e:\n",
        "                print(f\" Error downloading image: {e}\")\n",
        "\n",
        "        page += 1\n",
        "\n",
        "    print(f\" Downloaded {downloaded} images for '{query}'\")\n",
        "\n"
      ],
      "metadata": {
        "id": "5rW6w3i68gp2"
      },
      "execution_count": null,
      "outputs": []
    },
    {
      "cell_type": "code",
      "source": [
        "!pip install icrawler\n"
      ],
      "metadata": {
        "colab": {
          "base_uri": "https://localhost:8080/"
        },
        "id": "gHXyOksdIbNj",
        "outputId": "0b0b78dd-47ff-453c-abaa-a30cfef3b3ae"
      },
      "execution_count": null,
      "outputs": [
        {
          "output_type": "stream",
          "name": "stdout",
          "text": [
            "Collecting icrawler\n",
            "  Downloading icrawler-0.6.10-py3-none-any.whl.metadata (6.2 kB)\n",
            "Requirement already satisfied: beautifulsoup4 in /usr/local/lib/python3.11/dist-packages (from icrawler) (4.13.4)\n",
            "Collecting bs4 (from icrawler)\n",
            "  Downloading bs4-0.0.2-py2.py3-none-any.whl.metadata (411 bytes)\n",
            "Requirement already satisfied: lxml in /usr/local/lib/python3.11/dist-packages (from icrawler) (5.4.0)\n",
            "Requirement already satisfied: pillow in /usr/local/lib/python3.11/dist-packages (from icrawler) (11.2.1)\n",
            "Requirement already satisfied: pyyaml in /usr/local/lib/python3.11/dist-packages (from icrawler) (6.0.2)\n",
            "Requirement already satisfied: requests in /usr/local/lib/python3.11/dist-packages (from icrawler) (2.32.3)\n",
            "Requirement already satisfied: six in /usr/local/lib/python3.11/dist-packages (from icrawler) (1.17.0)\n",
            "Requirement already satisfied: soupsieve>1.2 in /usr/local/lib/python3.11/dist-packages (from beautifulsoup4->icrawler) (2.7)\n",
            "Requirement already satisfied: typing-extensions>=4.0.0 in /usr/local/lib/python3.11/dist-packages (from beautifulsoup4->icrawler) (4.14.0)\n",
            "Requirement already satisfied: charset-normalizer<4,>=2 in /usr/local/lib/python3.11/dist-packages (from requests->icrawler) (3.4.2)\n",
            "Requirement already satisfied: idna<4,>=2.5 in /usr/local/lib/python3.11/dist-packages (from requests->icrawler) (3.10)\n",
            "Requirement already satisfied: urllib3<3,>=1.21.1 in /usr/local/lib/python3.11/dist-packages (from requests->icrawler) (2.4.0)\n",
            "Requirement already satisfied: certifi>=2017.4.17 in /usr/local/lib/python3.11/dist-packages (from requests->icrawler) (2025.4.26)\n",
            "Downloading icrawler-0.6.10-py3-none-any.whl (36 kB)\n",
            "Downloading bs4-0.0.2-py2.py3-none-any.whl (1.2 kB)\n",
            "Installing collected packages: bs4, icrawler\n",
            "Successfully installed bs4-0.0.2 icrawler-0.6.10\n"
          ]
        }
      ]
    },
    {
      "cell_type": "code",
      "source": [
        "for split in ['train', 'val', 'test']:\n",
        "    for cls in classes:\n",
        "        path = os.path.join(dataset_root, split, cls)\n",
        "        print(f\"{split}/{cls}: {len(os.listdir(path))} images\")\n"
      ],
      "metadata": {
        "id": "LrbFz9Dh8xgj"
      },
      "execution_count": null,
      "outputs": []
    },
    {
      "cell_type": "code",
      "source": [
        "import os\n",
        "import requests\n",
        "from tqdm import tqdm\n",
        "\n",
        "def download_pixabay_images(query, folder, api_key, max_images=100):\n",
        "    os.makedirs(folder, exist_ok=True)\n",
        "    base_url = \"https://pixabay.com/api/\"\n",
        "    params = {\n",
        "        \"key\": api_key,\n",
        "        \"q\": query,\n",
        "        \"image_type\": \"photo\",\n",
        "        \"per_page\": 200,  # max allowed per page\n",
        "        \"safesearch\": \"true\"\n",
        "    }\n",
        "\n",
        "    downloaded = 0\n",
        "    page = 1\n",
        "\n",
        "    while downloaded < max_images:\n",
        "        params[\"page\"] = page\n",
        "        response = requests.get(base_url, params=params)\n",
        "\n",
        "        # Handle API errors\n",
        "        if response.status_code != 200:\n",
        "            print(f\" Request failed: {response.status_code}\")\n",
        "            print(\"Response content:\", response.text[:200])\n",
        "            break\n",
        "\n",
        "        try:\n",
        "            data = response.json()\n",
        "        except Exception as e:\n",
        "            print(\" JSON decode failed:\", e)\n",
        "            print(\"Raw response:\", response.text[:300])\n",
        "            break\n",
        "\n",
        "        hits = data.get(\"hits\", [])\n",
        "        if not hits:\n",
        "            print(\" No more results found.\")\n",
        "            break\n",
        "\n",
        "        for hit in hits:\n",
        "            if downloaded >= max_images:\n",
        "                break\n",
        "            img_url = hit.get(\"largeImageURL\")\n",
        "            if not img_url:\n",
        "                continue\n",
        "            try:\n",
        "                img_data = requests.get(img_url, timeout=5).content\n",
        "                filename = os.path.join(folder, f\"{query.replace(' ', '_')}_{downloaded+1}.jpg\")\n",
        "                with open(filename, \"wb\") as f:\n",
        "                    f.write(img_data)\n",
        "                downloaded += 1\n",
        "            except Exception as e:\n",
        "                print(f\" Error downloading image: {e}\")\n",
        "                continue\n",
        "\n",
        "        page += 1\n",
        "\n",
        "    print(f\" Downloaded {downloaded} images for '{query}' into '{folder}'\")\n",
        "\n"
      ],
      "metadata": {
        "id": "kbzsnT-XFy6B"
      },
      "execution_count": null,
      "outputs": []
    },
    {
      "cell_type": "code",
      "source": [
        "PIXABAY_API_KEY = \"your_actual_pixabay_api_key\"\n",
        "\n",
        "target_folder = os.path.join(dataset_root, \"japanese_macaque\")\n",
        "download_pixabay_images(\"Japanese Macaque\", target_folder, PIXABAY_API_KEY, max_images=500)\n"
      ],
      "metadata": {
        "colab": {
          "base_uri": "https://localhost:8080/"
        },
        "id": "3i0C4aZHGHkP",
        "outputId": "4744919f-3d01-42ff-e1bd-94d1e2e4bf40"
      },
      "execution_count": null,
      "outputs": [
        {
          "output_type": "stream",
          "name": "stdout",
          "text": [
            " Request failed: 400\n",
            "Response content: [ERROR 400] Invalid or missing API key (https://pixabay.com/api/docs/).\n",
            " Downloaded 0 images for 'Japanese Macaque' into '/content/monkey_project/monkey_dataset/japanese_macaque'\n"
          ]
        }
      ]
    },
    {
      "cell_type": "code",
      "execution_count": null,
      "metadata": {
        "id": "Rh3AotTrL_bU"
      },
      "outputs": [],
      "source": [
        "from PIL import Image\n",
        "\n",
        "def clean_broken_images(base_dir, class_list):\n",
        "    for cls in class_list:\n",
        "        folder = os.path.join(base_dir, cls)\n",
        "        files = glob.glob(os.path.join(folder, \"*\"))\n",
        "        for file_path in files:\n",
        "            try:\n",
        "                img = Image.open(file_path)\n",
        "                img.verify()\n",
        "            except:\n",
        "                os.remove(file_path)\n",
        "\n",
        "clean_broken_images(dataset_root, classes)\n"
      ]
    },
    {
      "cell_type": "code",
      "execution_count": null,
      "metadata": {
        "id": "3s6pEWECFVYe"
      },
      "outputs": [],
      "source": [
        "# 10 Epochs\n",
        "from tensorflow.keras.preprocessing.image import ImageDataGenerator\n",
        "from tensorflow.keras.applications import ResNet50, DenseNet121, MobileNetV3Small\n",
        "from tensorflow.keras.applications.resnet50 import preprocess_input as resnet_preprocess\n",
        "from tensorflow.keras.applications.densenet import preprocess_input as densenet_preprocess\n",
        "from tensorflow.keras.applications.mobilenet_v3 import preprocess_input as mobilenet_preprocess\n",
        "from tensorflow.keras.models import Model\n",
        "from tensorflow.keras.layers import GlobalAveragePooling2D, Dense\n",
        "from tensorflow.keras.optimizers import Adam\n",
        "import numpy as np\n",
        "import matplotlib.pyplot as plt\n",
        "from sklearn.metrics import classification_report, confusion_matrix\n",
        "import seaborn as sns\n",
        "import time\n",
        "\n",
        "batch_size = 32\n",
        "img_size = (224, 224)\n",
        "\n",
        "def get_generators(preprocess_func):\n",
        "    train_gen = ImageDataGenerator(preprocessing_function=preprocess_func)\n",
        "    val_gen = ImageDataGenerator(preprocessing_function=preprocess_func)\n",
        "    test_gen = ImageDataGenerator(preprocessing_function=preprocess_func)\n",
        "\n",
        "    train = train_gen.flow_from_directory(os.path.join(dataset_root, 'train'),\n",
        "                                          target_size=img_size,\n",
        "                                          classes=classes,\n",
        "                                          batch_size=batch_size)\n",
        "    val = val_gen.flow_from_directory(os.path.join(dataset_root, 'val'),\n",
        "                                      target_size=img_size,\n",
        "                                      classes=classes,\n",
        "                                      batch_size=batch_size)\n",
        "    test = test_gen.flow_from_directory(os.path.join(dataset_root, 'test'),\n",
        "                                        target_size=img_size,\n",
        "                                        classes=classes,\n",
        "                                        batch_size=batch_size,\n",
        "                                        shuffle=False)\n",
        "    return train, val, test\n",
        "\n",
        "def build_model(base_model_class, preprocess_func, name):\n",
        "    base_model = base_model_class(include_top=False, weights='imagenet', input_shape=(224, 224, 3))\n",
        "    base_model.trainable = False\n",
        "\n",
        "    x = base_model.output\n",
        "    x = GlobalAveragePooling2D()(x)\n",
        "    predictions = Dense(len(classes), activation='softmax')(x)\n",
        "    model = Model(inputs=base_model.input, outputs=predictions)\n",
        "    model.compile(optimizer=Adam(1e-4), loss='categorical_crossentropy', metrics=['accuracy'])\n",
        "    return model\n",
        "\n",
        "def train_and_evaluate(name, base_model_class, preprocess_func):\n",
        "    print(f\"\\nTraining {name}...\")\n",
        "    train, val, test = get_generators(preprocess_func)\n",
        "    model = build_model(base_model_class, preprocess_func, name)\n",
        "\n",
        "    start = time.time()\n",
        "    history = model.fit(train, validation_data=val, epochs=10, verbose=2)\n",
        "    duration = time.time() - start\n",
        "\n",
        "    test_loss, test_acc = model.evaluate(test)\n",
        "    y_pred = model.predict(test)\n",
        "    y_true = test.classes\n",
        "    y_pred_classes = np.argmax(y_pred, axis=1)\n",
        "\n",
        "    print(f\"\\n{name} Accuracy: {test_acc:.4f}, Time: {duration:.2f} sec\")\n",
        "    print(classification_report(y_true, y_pred_classes, target_names=classes))\n",
        "\n",
        "    cm = confusion_matrix(y_true, y_pred_classes)\n",
        "    plt.figure(figsize=(6, 5))\n",
        "    sns.heatmap(cm, annot=True, fmt='d', cmap='Blues', xticklabels=classes, yticklabels=classes)\n",
        "    plt.title(f\"{name} Confusion Matrix\")\n",
        "    plt.ylabel('True Label')\n",
        "    plt.xlabel('Predicted Label')\n",
        "    plt.show()\n",
        "\n",
        "    return history, duration, test_acc\n"
      ]
    },
    {
      "cell_type": "code",
      "execution_count": null,
      "metadata": {
        "id": "-uRGtTwKFXgh"
      },
      "outputs": [],
      "source": [
        "#10 Epochs\n",
        "history_resnet, time_resnet, acc_resnet = train_and_evaluate(\"ResNet50\", ResNet50, resnet_preprocess)\n",
        "history_densenet, time_densenet, acc_densenet = train_and_evaluate(\"DenseNet121\", DenseNet121, densenet_preprocess)\n",
        "history_mobilenet, time_mobilenet, acc_mobilenet = train_and_evaluate(\"MobileNetV3\", MobileNetV3Small, mobilenet_preprocess)\n"
      ]
    },
    {
      "cell_type": "code",
      "execution_count": null,
      "metadata": {
        "id": "bRf4zNLAFZL7"
      },
      "outputs": [],
      "source": [
        "def plot_history(history, model_name):\n",
        "    plt.figure(figsize=(12,5))\n",
        "    plt.subplot(1,2,1)\n",
        "    plt.plot(history.history['accuracy'], label='Train')\n",
        "    plt.plot(history.history['val_accuracy'], label='Val')\n",
        "    plt.title(f'{model_name} Accuracy')\n",
        "    plt.legend()\n",
        "\n",
        "    plt.subplot(1,2,2)\n",
        "    plt.plot(history.history['loss'], label='Train')\n",
        "    plt.plot(history.history['val_loss'], label='Val')\n",
        "    plt.title(f'{model_name} Loss')\n",
        "    plt.legend()\n",
        "    plt.show()\n",
        "\n",
        "plot_history(history_resnet, \"ResNet50\")\n",
        "plot_history(history_densenet, \"DenseNet121\")\n",
        "plot_history(history_mobilenet, \"MobileNetV3\")\n"
      ]
    },
    {
      "cell_type": "code",
      "execution_count": null,
      "metadata": {
        "id": "RtJbw7771Pwp"
      },
      "outputs": [],
      "source": [
        "def plot_confusion_matrix(y_true, y_pred, class_names, title=\"Confusion Matrix\"):\n",
        "    cm = confusion_matrix(y_true, y_pred)\n",
        "    plt.figure(figsize=(6,5))\n",
        "    sns.heatmap(cm, annot=True, fmt='d', cmap='Blues',\n",
        "                xticklabels=class_names, yticklabels=class_names)\n",
        "    plt.title(title)\n",
        "    plt.ylabel('True Label')\n",
        "    plt.xlabel('Predicted Label')\n",
        "    plt.show()\n"
      ]
    },
    {
      "cell_type": "code",
      "execution_count": null,
      "metadata": {
        "id": "z1D4od212hRm"
      },
      "outputs": [],
      "source": [
        "def train_and_evaluate(name, base_model_class, preprocess_func):\n",
        "    print(f\"\\nTraining {name}...\")\n",
        "    train, val, test = get_generators(preprocess_func)\n",
        "    model = build_model(base_model_class, preprocess_func, name)\n",
        "\n",
        "    start = time.time()\n",
        "    history = model.fit(train, validation_data=val, epochs=10, verbose=2)\n",
        "    duration = time.time() - start\n",
        "\n",
        "    test_loss, test_acc = model.evaluate(test)\n",
        "    y_pred = model.predict(test)\n",
        "    y_true = test.classes\n",
        "    y_pred_classes = np.argmax(y_pred, axis=1)\n",
        "\n",
        "    print(f\"\\n{name} Accuracy: {test_acc:.4f}, Time: {duration:.2f} sec\")\n",
        "    print(classification_report(y_true, y_pred_classes, target_names=classes))\n",
        "\n",
        "    cm = confusion_matrix(y_true, y_pred_classes)\n",
        "    plt.figure(figsize=(6, 5))\n",
        "    sns.heatmap(cm, annot=True, fmt='d', cmap='Blues', xticklabels=classes, yticklabels=classes)\n",
        "    plt.title(f\"{name} Confusion Matrix\")\n",
        "    plt.ylabel('True Label')\n",
        "    plt.xlabel('Predicted Label')\n",
        "    plt.show()\n",
        "\n",
        "    return history, duration, test_acc, (y_true, y_pred_classes)\n"
      ]
    },
    {
      "cell_type": "code",
      "source": [
        "from tensorflow.keras.preprocessing.image import ImageDataGenerator\n",
        "from tensorflow.keras.applications import ResNet50, DenseNet121, MobileNetV3Small\n",
        "from tensorflow.keras.applications.resnet50 import preprocess_input as resnet_preprocess\n",
        "from tensorflow.keras.applications.densenet import preprocess_input as densenet_preprocess\n",
        "from tensorflow.keras.applications.mobilenet_v3 import preprocess_input as mobilenet_preprocess\n",
        "from tensorflow.keras.models import Model\n",
        "from tensorflow.keras.layers import GlobalAveragePooling2D, Dense\n",
        "from tensorflow.keras.optimizers import Adam\n",
        "import numpy as np\n",
        "import matplotlib.pyplot as plt\n",
        "from sklearn.metrics import classification_report, confusion_matrix\n",
        "import seaborn as sns\n",
        "import time\n",
        "\n",
        "batch_size = 32\n",
        "img_size = (224, 224)\n",
        "\n",
        "def get_generators(preprocess_func):\n",
        "    train_gen = ImageDataGenerator(preprocessing_function=preprocess_func)\n",
        "    val_gen = ImageDataGenerator(preprocessing_function=preprocess_func)\n",
        "    test_gen = ImageDataGenerator(preprocessing_function=preprocess_func)\n",
        "\n",
        "    train = train_gen.flow_from_directory(os.path.join(dataset_root, 'train'),\n",
        "                                          target_size=img_size,\n",
        "                                          classes=classes,\n",
        "                                          batch_size=batch_size)\n",
        "    val = val_gen.flow_from_directory(os.path.join(dataset_root, 'val'),\n",
        "                                      target_size=img_size,\n",
        "                                      classes=classes,\n",
        "                                      batch_size=batch_size)\n",
        "    test = test_gen.flow_from_directory(os.path.join(dataset_root, 'test'),\n",
        "                                        target_size=img_size,\n",
        "                                        classes=classes,\n",
        "                                        batch_size=batch_size,\n",
        "                                        shuffle=False)\n",
        "    return train, val, test\n",
        "\n",
        "def build_model(base_model_class, preprocess_func, name):\n",
        "    base_model = base_model_class(include_top=False, weights='imagenet', input_shape=(224, 224, 3))\n",
        "    base_model.trainable = False\n",
        "\n",
        "    x = base_model.output\n",
        "    x = GlobalAveragePooling2D()(x)\n",
        "    predictions = Dense(len(classes), activation='softmax')(x)\n",
        "    model = Model(inputs=base_model.input, outputs=predictions)\n",
        "    model.compile(optimizer=Adam(1e-4), loss='categorical_crossentropy', metrics=['accuracy'])\n",
        "    return model\n",
        "\n",
        "#Change to 50 Epoch\n",
        "def train_and_evaluate(name, base_model_class, preprocess_func, epochs=50):\n",
        "    print(f\"\\n Training {name} for {epochs} epochs...\")\n",
        "    train, val, test = get_generators(preprocess_func)\n",
        "    model = build_model(base_model_class, preprocess_func, name)\n",
        "\n",
        "    start = time.time()\n",
        "    history = model.fit(train, validation_data=val, epochs=epochs, verbose=2)\n",
        "    duration = time.time() - start\n",
        "\n",
        "    test_loss, test_acc = model.evaluate(test)\n",
        "    y_pred = model.predict(test)\n",
        "    y_true = test.classes\n",
        "    y_pred_classes = np.argmax(y_pred, axis=1)\n",
        "\n",
        "    print(f\"\\n {name} Accuracy: {test_acc:.4f}, Time: {duration:.2f} sec\")\n",
        "    print(classification_report(y_true, y_pred_classes, target_names=classes))\n",
        "\n",
        "    cm = confusion_matrix(y_true, y_pred_classes)\n",
        "    plt.figure(figsize=(6, 5))\n",
        "    sns.heatmap(cm, annot=True, fmt='d', cmap='Blues', xticklabels=classes, yticklabels=classes)\n",
        "    plt.title(f\"{name} Confusion Matrix\")\n",
        "    plt.ylabel('True Label')\n",
        "    plt.xlabel('Predicted Label')\n",
        "    plt.show()\n",
        "\n",
        "    return history, duration, test_acc, (y_true, y_pred_classes)\n"
      ],
      "metadata": {
        "id": "I-y7-7fVXV93"
      },
      "execution_count": null,
      "outputs": []
    },
    {
      "cell_type": "code",
      "source": [
        "#edited version of 50 epochs\n",
        "\n",
        "from tensorflow.keras.preprocessing.image import ImageDataGenerator\n",
        "from tensorflow.keras.applications import ResNet50, DenseNet121, MobileNetV3Small\n",
        "from tensorflow.keras.applications.resnet50 import preprocess_input as resnet_preprocess\n",
        "from tensorflow.keras.applications.densenet import preprocess_input as densenet_preprocess\n",
        "from tensorflow.keras.applications.mobilenet_v3 import preprocess_input as mobilenet_preprocess\n",
        "from tensorflow.keras.models import Model\n",
        "from tensorflow.keras.layers import GlobalAveragePooling2D, Dense\n",
        "from tensorflow.keras.optimizers import Adam\n",
        "import numpy as np\n",
        "import matplotlib.pyplot as plt\n",
        "from sklearn.metrics import classification_report, confusion_matrix\n",
        "import seaborn as sns\n",
        "import time\n",
        "import os\n",
        "\n",
        "batch_size = 32\n",
        "img_size = (224, 224)\n",
        "\n",
        "def get_generators(preprocess_func):\n",
        "    train_gen = ImageDataGenerator(preprocessing_function=preprocess_func)\n",
        "    val_gen = ImageDataGenerator(preprocessing_function=preprocess_func)\n",
        "    test_gen = ImageDataGenerator(preprocessing_function=preprocess_func)\n",
        "\n",
        "    train = train_gen.flow_from_directory(os.path.join(dataset_root, 'train'),\n",
        "                                          target_size=img_size,\n",
        "                                          classes=classes,\n",
        "                                          batch_size=batch_size)\n",
        "    val = val_gen.flow_from_directory(os.path.join(dataset_root, 'val'),\n",
        "                                      target_size=img_size,\n",
        "                                      classes=classes,\n",
        "                                      batch_size=batch_size)\n",
        "    test = test_gen.flow_from_directory(os.path.join(dataset_root, 'test'),\n",
        "                                        target_size=img_size,\n",
        "                                        classes=classes,\n",
        "                                        batch_size=batch_size,\n",
        "                                        shuffle=False)\n",
        "    return train, val, test\n",
        "\n",
        "def build_model(base_model_class, preprocess_func, name):\n",
        "    base_model = base_model_class(include_top=False, weights='imagenet', input_shape=(224, 224, 3))\n",
        "    base_model.trainable = False\n",
        "\n",
        "    x = base_model.output\n",
        "    x = GlobalAveragePooling2D()(x)\n",
        "    predictions = Dense(len(classes), activation='softmax')(x)\n",
        "    model = Model(inputs=base_model.input, outputs=predictions)\n",
        "    model.compile(optimizer=Adam(1e-4), loss='categorical_crossentropy', metrics=['accuracy'])\n",
        "    return model\n",
        "\n",
        "def train_and_evaluate(name, base_model_class, preprocess_func, epochs=20):\n",
        "    print(f\"\\n Training {name} for {epochs} epochs...\")\n",
        "    train, val, test = get_generators(preprocess_func)\n",
        "    model = build_model(base_model_class, preprocess_func, name)\n",
        "\n",
        "    start = time.time()\n",
        "    history = model.fit(train, validation_data=val, epochs=epochs, verbose=2)\n",
        "    duration = time.time() - start\n",
        "\n",
        "    test_loss, test_acc = model.evaluate(test)\n",
        "    y_pred = model.predict(test)\n",
        "    y_true = test.classes\n",
        "    y_pred_classes = np.argmax(y_pred, axis=1)\n",
        "\n",
        "    print(f\"\\n {name} Accuracy: {test_acc:.4f}, Time: {duration:.2f} sec\")\n",
        "    print(\"y_true labels:\", np.unique(y_true))\n",
        "    print(\"y_pred classes:\", np.unique(y_pred_classes))\n",
        "\n",
        "    print(classification_report(\n",
        "        y_true,\n",
        "        y_pred_classes,\n",
        "        labels=[0, 1, 2],  # Ensures matching with target_names below\n",
        "        target_names=classes\n",
        "    ))\n",
        "\n",
        "    cm = confusion_matrix(y_true, y_pred_classes, labels=[0, 1, 2])\n",
        "    plt.figure(figsize=(6, 5))\n",
        "    sns.heatmap(cm, annot=True, fmt='d', cmap='Blues', xticklabels=classes, yticklabels=classes)\n",
        "    plt.title(f\"{name} Confusion Matrix\")\n",
        "    plt.ylabel('True Label')\n",
        "    plt.xlabel('Predicted Label')\n",
        "    plt.show()\n",
        "\n",
        "    return history, duration, test_acc, (y_true, y_pred_classes)\n"
      ],
      "metadata": {
        "id": "zDn3j29xzwoB"
      },
      "execution_count": null,
      "outputs": []
    },
    {
      "cell_type": "code",
      "source": [
        "# check for corrupted images\n",
        "from PIL import Image\n",
        "def find_and_remove_corrupted_images(folder_path):\n",
        "    for filepath in glob.glob(f\"{folder_path}/**/*.*\", recursive=True):\n",
        "        try:\n",
        "            img = Image.open(filepath)\n",
        "            img.verify()\n",
        "        except:\n",
        "            print(f\"Removing corrupted: {filepath}\")\n",
        "            os.remove(filepath)\n",
        "find_and_remove_corrupted_images(dataset_root)\n"
      ],
      "metadata": {
        "id": "RcEKVCBX2G8g"
      },
      "execution_count": null,
      "outputs": []
    },
    {
      "cell_type": "code",
      "source": [
        "for cls in classes:\n",
        "    print(cls, \"=\", len(os.listdir(os.path.join(dataset_root, cls))))\n"
      ],
      "metadata": {
        "colab": {
          "base_uri": "https://localhost:8080/"
        },
        "id": "FgmSQyCS8LR5",
        "outputId": "8b9910d9-5aa5-409b-c354-7e21910bc0ba"
      },
      "execution_count": null,
      "outputs": [
        {
          "output_type": "stream",
          "name": "stdout",
          "text": [
            "proboscis_monkey = 1722\n",
            "spider_monkey = 1255\n",
            "japanese_macaque = 0\n"
          ]
        }
      ]
    },
    {
      "cell_type": "code",
      "source": [
        "# Clean Corrupted images\n",
        "from PIL import Image\n",
        "import os\n",
        "import glob\n",
        "\n",
        "def find_and_remove_corrupted_images(folder_path):\n",
        "    count = 0\n",
        "    for filepath in glob.glob(f\"{folder_path}/**/*.*\", recursive=True):\n",
        "        try:\n",
        "            img = Image.open(filepath)\n",
        "            img.verify()  # Will raise error if file is not valid\n",
        "        except (IOError, SyntaxError):\n",
        "            print(f\"Removing corrupted image: {filepath}\")\n",
        "            os.remove(filepath)\n",
        "            count += 1\n",
        "    print(f\"\\n✅ Cleanup complete. {count} corrupted images removed.\")\n",
        "\n",
        "# Run it on your dataset\n",
        "find_and_remove_corrupted_images(dataset_root)\n"
      ],
      "metadata": {
        "colab": {
          "base_uri": "https://localhost:8080/"
        },
        "id": "_Exy6XTojE8T",
        "outputId": "d930ed05-5035-423f-b489-f346237b217e"
      },
      "execution_count": null,
      "outputs": [
        {
          "output_type": "stream",
          "name": "stdout",
          "text": [
            "Removing corrupted image: /content/monkey_project/monkey_dataset/japanese_macaque/Japanese_Macaque_baby_97.jpg\n",
            "Removing corrupted image: /content/monkey_project/monkey_dataset/japanese_macaque/Snow_Monkey_217.jpg\n",
            "Removing corrupted image: /content/monkey_project/monkey_dataset/japanese_macaque/Japanese_Macaque_312.jpg\n",
            "Removing corrupted image: /content/monkey_project/monkey_dataset/japanese_macaque/Japanese_Macaque_in_snow_335.jpg\n",
            "Removing corrupted image: /content/monkey_project/monkey_dataset/japanese_macaque/Japanese_Macaque_in_snow_341.jpg\n",
            "Removing corrupted image: /content/monkey_project/monkey_dataset/japanese_macaque/Japanese_Macaque_320.jpg\n",
            "Removing corrupted image: /content/monkey_project/monkey_dataset/japanese_macaque/Japanese_Macaque_group_267.jpg\n",
            "Removing corrupted image: /content/monkey_project/monkey_dataset/japanese_macaque/Japanese_Macaque_in_snow_322.jpg\n",
            "Removing corrupted image: /content/monkey_project/monkey_dataset/japanese_macaque/Japanese_Macaque_baby_194.jpg\n",
            "Removing corrupted image: /content/monkey_project/monkey_dataset/japanese_macaque/Japanese_Macaque_in_snow_340.jpg\n",
            "Removing corrupted image: /content/monkey_project/monkey_dataset/japanese_macaque/Japanese_Macaque_group_297.jpg\n",
            "Removing corrupted image: /content/monkey_project/monkey_dataset/japanese_macaque/Japanese_Macaque_in_snow_315.jpg\n",
            "Removing corrupted image: /content/monkey_project/monkey_dataset/japanese_macaque/Japanese_Macaque_315.jpg\n",
            "Removing corrupted image: /content/monkey_project/monkey_dataset/japanese_macaque/Japanese_Macaque_baby_38.jpg\n",
            "Removing corrupted image: /content/monkey_project/monkey_dataset/japanese_macaque/Japanese_Macaque_391.jpg\n",
            "Removing corrupted image: /content/monkey_project/monkey_dataset/japanese_macaque/Macaca_fuscata_138.jpg\n",
            "Removing corrupted image: /content/monkey_project/monkey_dataset/japanese_macaque/Japanese_Macaque_318.jpg\n",
            "Removing corrupted image: /content/monkey_project/monkey_dataset/japanese_macaque/Japanese_Macaque_325.jpg\n",
            "Removing corrupted image: /content/monkey_project/monkey_dataset/japanese_macaque/Japanese_Macaque_in_snow_342.jpg\n",
            "Removing corrupted image: /content/monkey_project/monkey_dataset/japanese_macaque/Japanese_Macaque_in_snow_321.jpg\n",
            "\n",
            "✅ Cleanup complete. 20 corrupted images removed.\n"
          ]
        }
      ]
    },
    {
      "cell_type": "code",
      "source": [
        "# unbalance but ok\n",
        "train_and_evaluate(\"ResNet50\", ResNet50, resnet_preprocess, epochs=20)\n",
        "train_and_evaluate(\"DenseNet121\", DenseNet121, densenet_preprocess, epochs=20)\n",
        "train_and_evaluate(\"MobileNetV3\", MobileNetV3Small, mobilenet_preprocess, epochs=20)\n"
      ],
      "metadata": {
        "id": "mzzIwvQG175-"
      },
      "execution_count": null,
      "outputs": []
    },
    {
      "cell_type": "code",
      "source": [
        "#history_resnet, time_resnet, acc_resnet, resnet_preds = train_and_evaluate(\"ResNet50\", ResNet50, resnet_preprocess, epochs=50)\n",
        "\n",
        "# Train DenseNet121 for 50 epochs\n",
        "#history_densenet, time_densenet, acc_densenet, densenet_preds = train_and_evaluate(\n",
        "#    \"DenseNet121\", DenseNet121, densenet_preprocess, epochs=50\n",
        "#)\n",
        "\n",
        "# Train MobileNetV3Small for 50 epochs\n",
        "#history_mobilenet, time_mobilenet, acc_mobilenet, mobilenet_preds = train_and_evaluate(\n",
        "#   \"MobileNetV3\", MobileNetV3Small, mobilenet_preprocess, epochs=50\n",
        "#)"
      ],
      "metadata": {
        "id": "b2EiQj6rjSjU"
      },
      "execution_count": null,
      "outputs": []
    },
    {
      "cell_type": "code",
      "execution_count": null,
      "metadata": {
        "id": "7_Ud6wis414p"
      },
      "outputs": [],
      "source": [
        "from tensorflow.keras.applications import ResNet50, DenseNet121, MobileNetV3Small\n",
        "from tensorflow.keras.applications.resnet50 import preprocess_input as resnet_preprocess\n",
        "from tensorflow.keras.applications.densenet import preprocess_input as densenet_preprocess\n",
        "from tensorflow.keras.applications.mobilenet_v3 import preprocess_input as mobilenet_preprocess\n"
      ]
    },
    {
      "cell_type": "code",
      "source": [
        "from tensorflow.keras.preprocessing.image import ImageDataGenerator\n",
        "\n",
        "batch_size = 32\n",
        "img_size = (224, 224)\n",
        "\n",
        "def get_generators(preprocess_func):\n",
        "    train_gen = ImageDataGenerator(preprocessing_function=preprocess_func)\n",
        "    val_gen = ImageDataGenerator(preprocessing_function=preprocess_func)\n",
        "    test_gen = ImageDataGenerator(preprocessing_function=preprocess_func)\n",
        "\n",
        "    train = train_gen.flow_from_directory(os.path.join(dataset_root, 'train'),\n",
        "                                          target_size=img_size,\n",
        "                                          classes=classes,\n",
        "                                          batch_size=batch_size)\n",
        "    val = val_gen.flow_from_directory(os.path.join(dataset_root, 'val'),\n",
        "                                      target_size=img_size,\n",
        "                                      classes=classes,\n",
        "                                      batch_size=batch_size)\n",
        "    test = test_gen.flow_from_directory(os.path.join(dataset_root, 'test'),\n",
        "                                        target_size=img_size,\n",
        "                                        classes=classes,\n",
        "                                        batch_size=batch_size,\n",
        "                                        shuffle=False)\n",
        "    return train, val, test\n"
      ],
      "metadata": {
        "id": "ped9pq_k7REm"
      },
      "execution_count": null,
      "outputs": []
    },
    {
      "cell_type": "code",
      "execution_count": null,
      "metadata": {
        "id": "VU_Z6pYz4m5c"
      },
      "outputs": [],
      "source": [
        "import os\n",
        "import numpy as np\n",
        "import matplotlib.pyplot as plt\n",
        "import seaborn as sns\n",
        "import time\n",
        "import random\n",
        "import glob\n",
        "\n",
        "\n"
      ]
    },
    {
      "cell_type": "code",
      "source": [
        "import matplotlib.pyplot as plt\n",
        "import seaborn as sns\n",
        "\n",
        "# Fallback-safe retrieval\n",
        "def safe_get(var_name, default=None):\n",
        "    try:\n",
        "        return globals()[var_name]\n",
        "    except:\n",
        "        return default\n",
        "\n",
        "# Define models and metrics\n",
        "models = []\n",
        "accuracies = []\n",
        "times = []\n",
        "maps = []\n",
        "\n",
        "# Add ResNet50\n",
        "if safe_get(\"acc_resnet\") is not None:\n",
        "    models.append(\"ResNet50\")\n",
        "    accuracies.append(acc_resnet)\n",
        "    times.append(time_resnet)\n",
        "    maps.append(precision_score(resnet_preds[0], resnet_preds[1], average='macro'))\n",
        "\n",
        "# Add DenseNet121\n",
        "if safe_get(\"acc_densenet\") is not None:\n",
        "    models.append(\"DenseNet121\")\n",
        "    accuracies.append(acc_densenet)\n",
        "    times.append(time_densenet)\n",
        "    maps.append(precision_score(densenet_preds[0], densenet_preds[1], average='macro'))\n",
        "\n",
        "# Add MobileNetV3\n",
        "if safe_get(\"acc_mobilenet\") is not None:\n",
        "    models.append(\"MobileNetV3\")\n",
        "    accuracies.append(acc_mobilenet)\n",
        "    times.append(time_mobilenet)\n",
        "    maps.append(precision_score(mobilenet_preds[0], mobilenet_preds[1], average='macro'))\n",
        "\n",
        "# Plot Accuracy\n",
        "plt.figure(figsize=(7,5))\n",
        "sns.barplot(x=models, y=accuracies)\n",
        "plt.title(\" Test Accuracy\")\n",
        "plt.ylabel(\"Accuracy\")\n",
        "plt.ylim(0.0, 1.0)\n",
        "plt.grid(True)\n",
        "plt.show()\n",
        "\n",
        "# Plot Training Time\n",
        "plt.figure(figsize=(7,5))\n",
        "sns.barplot(x=models, y=times)\n",
        "plt.title(\"⏱ Training Time (sec)\")\n",
        "plt.ylabel(\"Seconds\")\n",
        "plt.grid(True)\n",
        "plt.show()\n",
        "\n",
        "# Plot mAP Score\n",
        "plt.figure(figsize=(7,5))\n",
        "sns.barplot(x=models, y=maps)\n",
        "plt.title(\" Mean Average Precision (mAP)\")\n",
        "plt.ylabel(\"mAP\")\n",
        "plt.ylim(0.0, 1.0)\n",
        "plt.grid(True)\n",
        "plt.show()\n"
      ],
      "metadata": {
        "colab": {
          "base_uri": "https://localhost:8080/",
          "height": 1000
        },
        "id": "77ur3lMFcD_M",
        "outputId": "246088ad-1292-474d-c992-bd9c053bde18"
      },
      "execution_count": null,
      "outputs": [
        {
          "output_type": "stream",
          "name": "stderr",
          "text": [
            "/usr/local/lib/python3.11/dist-packages/IPython/core/pylabtools.py:151: UserWarning: Glyph 9989 (\\N{WHITE HEAVY CHECK MARK}) missing from font(s) DejaVu Sans.\n",
            "  fig.canvas.print_figure(bytes_io, **kw)\n"
          ]
        },
        {
          "output_type": "display_data",
          "data": {
            "text/plain": [
              "<Figure size 700x500 with 1 Axes>"
            ],
            "image/png": "[encoded data removed]"
          },
          "metadata": {}
        },
        {
          "output_type": "stream",
          "name": "stderr",
          "text": [
            "/usr/local/lib/python3.11/dist-packages/IPython/core/pylabtools.py:151: UserWarning: Glyph 9201 (\\N{STOPWATCH}) missing from font(s) DejaVu Sans.\n",
            "  fig.canvas.print_figure(bytes_io, **kw)\n"
          ]
        },
        {
          "output_type": "display_data",
          "data": {
            "text/plain": [
              "<Figure size 700x500 with 1 Axes>"
            ],
            "image/png": "[encoded data removed]"
          },
          "metadata": {}
        },
        {
          "output_type": "stream",
          "name": "stderr",
          "text": [
            "/usr/local/lib/python3.11/dist-packages/IPython/core/pylabtools.py:151: UserWarning: Glyph 127919 (\\N{DIRECT HIT}) missing from font(s) DejaVu Sans.\n",
            "  fig.canvas.print_figure(bytes_io, **kw)\n"
          ]
        },
        {
          "output_type": "display_data",
          "data": {
            "text/plain": [
              "<Figure size 700x500 with 1 Axes>"
            ],
            "image/png": "[encoded data removed]"
          },
          "metadata": {}
        }
      ]
    }
  ],
  "metadata": {
    "accelerator": "GPU",
    "colab": {
      "gpuType": "T4",
      "provenance": []
    },
    "kernelspec": {
      "display_name": "Python 3",
      "name": "python3"
    },
    "language_info": {
      "name": "python"
    }
  },
  "nbformat": 4,
  "nbformat_minor": 0
}